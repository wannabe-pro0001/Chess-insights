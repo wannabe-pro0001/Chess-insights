{
 "cells": [
  {
   "cell_type": "markdown",
   "id": "ce49420f-f4a6-478a-a7a1-8353621aef94",
   "metadata": {},
   "source": [
    "# Đề xuất báo cáo nhóm 17\n",
    "\n",
    "## 1. Giới thiệu"
   ]
  },
  {
   "cell_type": "markdown",
   "id": "59b3cf39-542a-41c9-ac63-a0c7cecf9149",
   "metadata": {},
   "source": [
    "* **Lĩnh vực đề tài**: phân tích dữ liệu các ván đấu cờ vua \n",
    "* **Dữ liệu được lấy từ**: __[Chess Game Dataset](https://www.kaggle.com/datasets/datasnaek/chess?fbclid=IwAR1aNDs_wglLFDJzHOX1L9xRE3C5GqffaOHNXmyOpfwO6_sCi68t1GAuQuk)__\n",
    "* **Nguồn thu nhập dữ liệu chính**: __[Lichess API](https://github.com/lichess-org/lila)__ \n",
    "* **Các trường hợp có thể xảy ra**: (chưa tổng hợp được)\n",
    "* **Đối tượng dữ liệu**: chi tiết từng ván đấu (elo người chơi, thời gian, các nước đi, kết quả)\n",
    "* **Ý tưởng**: Mục tiêu giúp những người chơi mới có hướng tiếp cận đến cờ vua tốt hơn. Và để chơi tốt hơn trong bộ môn này thì cần các yếu tố gì.\n",
    "* **Cảm hứng**: Cờ vua là một thể loại board game cổ điển và có tầm ảnh hưởng rất lớn. Một trong những người chơi đạt thứ hạng cao IM (International master) __[Gotham Chess](https://www.youtube.com/results?search_query=gothamchess)__ với nội dung khá là thú vị đó là dự đoán elo người chơi ngoài ra còn phân tích những nước đi sai lầm của những người chơi mới, phân tích các nước đi mở đầu.. Với nguồn dữ liệu cờ vua được thu nhập từ các trận đấu online, chúng em kỳ vọng sẽ phân tích ra được những yếu tố, những điểm cần lưu ý dành cho những người chơi mới cũng như người chơi lâu năm"
   ]
  },
  {
   "cell_type": "markdown",
   "id": "ed174643-8dc4-4d7c-98ea-e80dd390cf5c",
   "metadata": {},
   "source": [
    "## Phần 2: Dữ liệu"
   ]
  },
  {
   "cell_type": "markdown",
   "id": "8ae1abc1-05fc-4416-801f-a20fed4ae1fd",
   "metadata": {},
   "source": [
    "* **Số chiều**: 20058 dòng và 16 cột\n",
    "* **Các biến phân loại**: ID, rated, victory_status, winner, white_id, black_id, opening_eco, opening_name\n",
    "* **Các biến số**: turns, increment_code, moves, white_rating, black_rating, opening_ply, created_at, last_move_at"
   ]
  },
  {
   "cell_type": "code",
   "execution_count": 2,
   "id": "639874bc-21a8-40bb-b8ef-c0d57124509f",
   "metadata": {
    "tags": []
   },
   "outputs": [],
   "source": [
    "import pandas as pd\n",
    "import scipy.stats as stats\n",
    "import seaborn as sns\n",
    "import matplotlib.pyplot as plt\n",
    "import numpy as np\n",
    "import math\n",
    "from datetime import datetime\n",
    "import pytz\n",
    "import os"
   ]
  },
  {
   "cell_type": "code",
   "execution_count": 3,
   "id": "fd128a36-d106-4abb-820d-137abdeef2e9",
   "metadata": {
    "tags": []
   },
   "outputs": [
    {
     "name": "stdout",
     "output_type": "stream",
     "text": [
      "Dự liệu có 20058 dòng và 16 cột\n"
     ]
    }
   ],
   "source": [
    "data = pd.read_csv('.\\data\\games.csv', delimiter=',')\n",
    "data.dataframeName = 'games.csv'\n",
    "nRow, nCol = data.shape\n",
    "print(f'Dự liệu có {nRow} dòng và {nCol} cột')"
   ]
  },
  {
   "cell_type": "code",
   "execution_count": 3,
   "id": "00601e91-4fad-4759-9da2-38031823c86e",
   "metadata": {
    "jupyter": {
     "source_hidden": true
    },
    "tags": []
   },
   "outputs": [
    {
     "name": "stdout",
     "output_type": "stream",
     "text": [
      "<class 'pandas.core.frame.DataFrame'>\n",
      "RangeIndex: 20058 entries, 0 to 20057\n",
      "Data columns (total 16 columns):\n",
      " #   Column          Non-Null Count  Dtype  \n",
      "---  ------          --------------  -----  \n",
      " 0   id              20058 non-null  object \n",
      " 1   rated           20058 non-null  bool   \n",
      " 2   created_at      20058 non-null  float64\n",
      " 3   last_move_at    20058 non-null  float64\n",
      " 4   turns           20058 non-null  int64  \n",
      " 5   victory_status  20058 non-null  object \n",
      " 6   winner          20058 non-null  object \n",
      " 7   increment_code  20058 non-null  object \n",
      " 8   white_id        20058 non-null  object \n",
      " 9   white_rating    20058 non-null  int64  \n",
      " 10  black_id        20058 non-null  object \n",
      " 11  black_rating    20058 non-null  int64  \n",
      " 12  moves           20058 non-null  object \n",
      " 13  opening_eco     20058 non-null  object \n",
      " 14  opening_name    20058 non-null  object \n",
      " 15  opening_ply     20058 non-null  int64  \n",
      "dtypes: bool(1), float64(2), int64(4), object(9)\n",
      "memory usage: 2.3+ MB\n"
     ]
    }
   ],
   "source": [
    "data.info()"
   ]
  },
  {
   "cell_type": "code",
   "execution_count": 4,
   "id": "98962af4-0787-44e0-86c7-0f1faccefdff",
   "metadata": {
    "jupyter": {
     "source_hidden": true
    },
    "tags": []
   },
   "outputs": [
    {
     "data": {
      "text/html": [
       "<div>\n",
       "<style scoped>\n",
       "    .dataframe tbody tr th:only-of-type {\n",
       "        vertical-align: middle;\n",
       "    }\n",
       "\n",
       "    .dataframe tbody tr th {\n",
       "        vertical-align: top;\n",
       "    }\n",
       "\n",
       "    .dataframe thead th {\n",
       "        text-align: right;\n",
       "    }\n",
       "</style>\n",
       "<table border=\"1\" class=\"dataframe\">\n",
       "  <thead>\n",
       "    <tr style=\"text-align: right;\">\n",
       "      <th></th>\n",
       "      <th>id</th>\n",
       "      <th>rated</th>\n",
       "      <th>created_at</th>\n",
       "      <th>last_move_at</th>\n",
       "      <th>turns</th>\n",
       "      <th>victory_status</th>\n",
       "      <th>winner</th>\n",
       "      <th>increment_code</th>\n",
       "      <th>white_id</th>\n",
       "      <th>white_rating</th>\n",
       "      <th>black_id</th>\n",
       "      <th>black_rating</th>\n",
       "      <th>moves</th>\n",
       "      <th>opening_eco</th>\n",
       "      <th>opening_name</th>\n",
       "      <th>opening_ply</th>\n",
       "    </tr>\n",
       "  </thead>\n",
       "  <tbody>\n",
       "    <tr>\n",
       "      <th>0</th>\n",
       "      <td>TZJHLljE</td>\n",
       "      <td>False</td>\n",
       "      <td>1.504210e+12</td>\n",
       "      <td>1.504210e+12</td>\n",
       "      <td>13</td>\n",
       "      <td>outoftime</td>\n",
       "      <td>white</td>\n",
       "      <td>15+2</td>\n",
       "      <td>bourgris</td>\n",
       "      <td>1500</td>\n",
       "      <td>a-00</td>\n",
       "      <td>1191</td>\n",
       "      <td>d4 d5 c4 c6 cxd5 e6 dxe6 fxe6 Nf3 Bb4+ Nc3 Ba5...</td>\n",
       "      <td>D10</td>\n",
       "      <td>Slav Defense: Exchange Variation</td>\n",
       "      <td>5</td>\n",
       "    </tr>\n",
       "    <tr>\n",
       "      <th>1</th>\n",
       "      <td>l1NXvwaE</td>\n",
       "      <td>True</td>\n",
       "      <td>1.504130e+12</td>\n",
       "      <td>1.504130e+12</td>\n",
       "      <td>16</td>\n",
       "      <td>resign</td>\n",
       "      <td>black</td>\n",
       "      <td>5+10</td>\n",
       "      <td>a-00</td>\n",
       "      <td>1322</td>\n",
       "      <td>skinnerua</td>\n",
       "      <td>1261</td>\n",
       "      <td>d4 Nc6 e4 e5 f4 f6 dxe5 fxe5 fxe5 Nxe5 Qd4 Nc6...</td>\n",
       "      <td>B00</td>\n",
       "      <td>Nimzowitsch Defense: Kennedy Variation</td>\n",
       "      <td>4</td>\n",
       "    </tr>\n",
       "    <tr>\n",
       "      <th>2</th>\n",
       "      <td>mIICvQHh</td>\n",
       "      <td>True</td>\n",
       "      <td>1.504130e+12</td>\n",
       "      <td>1.504130e+12</td>\n",
       "      <td>61</td>\n",
       "      <td>mate</td>\n",
       "      <td>white</td>\n",
       "      <td>5+10</td>\n",
       "      <td>ischia</td>\n",
       "      <td>1496</td>\n",
       "      <td>a-00</td>\n",
       "      <td>1500</td>\n",
       "      <td>e4 e5 d3 d6 Be3 c6 Be2 b5 Nd2 a5 a4 c5 axb5 Nc...</td>\n",
       "      <td>C20</td>\n",
       "      <td>King's Pawn Game: Leonardis Variation</td>\n",
       "      <td>3</td>\n",
       "    </tr>\n",
       "    <tr>\n",
       "      <th>3</th>\n",
       "      <td>kWKvrqYL</td>\n",
       "      <td>True</td>\n",
       "      <td>1.504110e+12</td>\n",
       "      <td>1.504110e+12</td>\n",
       "      <td>61</td>\n",
       "      <td>mate</td>\n",
       "      <td>white</td>\n",
       "      <td>20+0</td>\n",
       "      <td>daniamurashov</td>\n",
       "      <td>1439</td>\n",
       "      <td>adivanov2009</td>\n",
       "      <td>1454</td>\n",
       "      <td>d4 d5 Nf3 Bf5 Nc3 Nf6 Bf4 Ng4 e3 Nc6 Be2 Qd7 O...</td>\n",
       "      <td>D02</td>\n",
       "      <td>Queen's Pawn Game: Zukertort Variation</td>\n",
       "      <td>3</td>\n",
       "    </tr>\n",
       "    <tr>\n",
       "      <th>4</th>\n",
       "      <td>9tXo1AUZ</td>\n",
       "      <td>True</td>\n",
       "      <td>1.504030e+12</td>\n",
       "      <td>1.504030e+12</td>\n",
       "      <td>95</td>\n",
       "      <td>mate</td>\n",
       "      <td>white</td>\n",
       "      <td>30+3</td>\n",
       "      <td>nik221107</td>\n",
       "      <td>1523</td>\n",
       "      <td>adivanov2009</td>\n",
       "      <td>1469</td>\n",
       "      <td>e4 e5 Nf3 d6 d4 Nc6 d5 Nb4 a3 Na6 Nc3 Be7 b4 N...</td>\n",
       "      <td>C41</td>\n",
       "      <td>Philidor Defense</td>\n",
       "      <td>5</td>\n",
       "    </tr>\n",
       "  </tbody>\n",
       "</table>\n",
       "</div>"
      ],
      "text/plain": [
       "         id  rated    created_at  last_move_at  turns victory_status winner  \\\n",
       "0  TZJHLljE  False  1.504210e+12  1.504210e+12     13      outoftime  white   \n",
       "1  l1NXvwaE   True  1.504130e+12  1.504130e+12     16         resign  black   \n",
       "2  mIICvQHh   True  1.504130e+12  1.504130e+12     61           mate  white   \n",
       "3  kWKvrqYL   True  1.504110e+12  1.504110e+12     61           mate  white   \n",
       "4  9tXo1AUZ   True  1.504030e+12  1.504030e+12     95           mate  white   \n",
       "\n",
       "  increment_code       white_id  white_rating      black_id  black_rating  \\\n",
       "0           15+2       bourgris          1500          a-00          1191   \n",
       "1           5+10           a-00          1322     skinnerua          1261   \n",
       "2           5+10         ischia          1496          a-00          1500   \n",
       "3           20+0  daniamurashov          1439  adivanov2009          1454   \n",
       "4           30+3      nik221107          1523  adivanov2009          1469   \n",
       "\n",
       "                                               moves opening_eco  \\\n",
       "0  d4 d5 c4 c6 cxd5 e6 dxe6 fxe6 Nf3 Bb4+ Nc3 Ba5...         D10   \n",
       "1  d4 Nc6 e4 e5 f4 f6 dxe5 fxe5 fxe5 Nxe5 Qd4 Nc6...         B00   \n",
       "2  e4 e5 d3 d6 Be3 c6 Be2 b5 Nd2 a5 a4 c5 axb5 Nc...         C20   \n",
       "3  d4 d5 Nf3 Bf5 Nc3 Nf6 Bf4 Ng4 e3 Nc6 Be2 Qd7 O...         D02   \n",
       "4  e4 e5 Nf3 d6 d4 Nc6 d5 Nb4 a3 Na6 Nc3 Be7 b4 N...         C41   \n",
       "\n",
       "                             opening_name  opening_ply  \n",
       "0        Slav Defense: Exchange Variation            5  \n",
       "1  Nimzowitsch Defense: Kennedy Variation            4  \n",
       "2   King's Pawn Game: Leonardis Variation            3  \n",
       "3  Queen's Pawn Game: Zukertort Variation            3  \n",
       "4                        Philidor Defense            5  "
      ]
     },
     "execution_count": 4,
     "metadata": {},
     "output_type": "execute_result"
    }
   ],
   "source": [
    "data.head()"
   ]
  },
  {
   "cell_type": "code",
   "execution_count": 5,
   "id": "b6416475-9037-4b23-941e-1f48ac54b90c",
   "metadata": {
    "jupyter": {
     "source_hidden": true
    },
    "tags": []
   },
   "outputs": [
    {
     "name": "stdout",
     "output_type": "stream",
     "text": [
      "Kiểm tra các dữ liệu có bị thiếu\n"
     ]
    },
    {
     "data": {
      "text/plain": [
       "id                0\n",
       "rated             0\n",
       "created_at        0\n",
       "last_move_at      0\n",
       "turns             0\n",
       "victory_status    0\n",
       "winner            0\n",
       "increment_code    0\n",
       "white_id          0\n",
       "white_rating      0\n",
       "black_id          0\n",
       "black_rating      0\n",
       "moves             0\n",
       "opening_eco       0\n",
       "opening_name      0\n",
       "opening_ply       0\n",
       "dtype: int64"
      ]
     },
     "execution_count": 5,
     "metadata": {},
     "output_type": "execute_result"
    }
   ],
   "source": [
    "print(\"Kiểm tra các dữ liệu có bị thiếu\")\n",
    "data.isnull().sum()"
   ]
  },
  {
   "cell_type": "code",
   "execution_count": 6,
   "id": "0f3f394c-26fa-4c94-ac1b-84bde91bbd44",
   "metadata": {},
   "outputs": [
    {
     "data": {
      "text/html": [
       "<div>\n",
       "<style scoped>\n",
       "    .dataframe tbody tr th:only-of-type {\n",
       "        vertical-align: middle;\n",
       "    }\n",
       "\n",
       "    .dataframe tbody tr th {\n",
       "        vertical-align: top;\n",
       "    }\n",
       "\n",
       "    .dataframe thead th {\n",
       "        text-align: right;\n",
       "    }\n",
       "</style>\n",
       "<table border=\"1\" class=\"dataframe\">\n",
       "  <thead>\n",
       "    <tr style=\"text-align: right;\">\n",
       "      <th></th>\n",
       "      <th>created_at</th>\n",
       "      <th>last_move_at</th>\n",
       "      <th>turns</th>\n",
       "      <th>white_rating</th>\n",
       "      <th>black_rating</th>\n",
       "      <th>opening_ply</th>\n",
       "    </tr>\n",
       "  </thead>\n",
       "  <tbody>\n",
       "    <tr>\n",
       "      <th>count</th>\n",
       "      <td>2.005800e+04</td>\n",
       "      <td>2.005800e+04</td>\n",
       "      <td>20058.000000</td>\n",
       "      <td>20058.000000</td>\n",
       "      <td>20058.000000</td>\n",
       "      <td>20058.000000</td>\n",
       "    </tr>\n",
       "    <tr>\n",
       "      <th>mean</th>\n",
       "      <td>1.483617e+12</td>\n",
       "      <td>1.483618e+12</td>\n",
       "      <td>60.465999</td>\n",
       "      <td>1596.631868</td>\n",
       "      <td>1588.831987</td>\n",
       "      <td>4.816981</td>\n",
       "    </tr>\n",
       "    <tr>\n",
       "      <th>std</th>\n",
       "      <td>2.850151e+10</td>\n",
       "      <td>2.850140e+10</td>\n",
       "      <td>33.570585</td>\n",
       "      <td>291.253376</td>\n",
       "      <td>291.036126</td>\n",
       "      <td>2.797152</td>\n",
       "    </tr>\n",
       "    <tr>\n",
       "      <th>min</th>\n",
       "      <td>1.376772e+12</td>\n",
       "      <td>1.376772e+12</td>\n",
       "      <td>1.000000</td>\n",
       "      <td>784.000000</td>\n",
       "      <td>789.000000</td>\n",
       "      <td>1.000000</td>\n",
       "    </tr>\n",
       "    <tr>\n",
       "      <th>25%</th>\n",
       "      <td>1.477548e+12</td>\n",
       "      <td>1.477548e+12</td>\n",
       "      <td>37.000000</td>\n",
       "      <td>1398.000000</td>\n",
       "      <td>1391.000000</td>\n",
       "      <td>3.000000</td>\n",
       "    </tr>\n",
       "    <tr>\n",
       "      <th>50%</th>\n",
       "      <td>1.496010e+12</td>\n",
       "      <td>1.496010e+12</td>\n",
       "      <td>55.000000</td>\n",
       "      <td>1567.000000</td>\n",
       "      <td>1562.000000</td>\n",
       "      <td>4.000000</td>\n",
       "    </tr>\n",
       "    <tr>\n",
       "      <th>75%</th>\n",
       "      <td>1.503170e+12</td>\n",
       "      <td>1.503170e+12</td>\n",
       "      <td>79.000000</td>\n",
       "      <td>1793.000000</td>\n",
       "      <td>1784.000000</td>\n",
       "      <td>6.000000</td>\n",
       "    </tr>\n",
       "    <tr>\n",
       "      <th>max</th>\n",
       "      <td>1.504493e+12</td>\n",
       "      <td>1.504494e+12</td>\n",
       "      <td>349.000000</td>\n",
       "      <td>2700.000000</td>\n",
       "      <td>2723.000000</td>\n",
       "      <td>28.000000</td>\n",
       "    </tr>\n",
       "  </tbody>\n",
       "</table>\n",
       "</div>"
      ],
      "text/plain": [
       "         created_at  last_move_at         turns  white_rating  black_rating  \\\n",
       "count  2.005800e+04  2.005800e+04  20058.000000  20058.000000  20058.000000   \n",
       "mean   1.483617e+12  1.483618e+12     60.465999   1596.631868   1588.831987   \n",
       "std    2.850151e+10  2.850140e+10     33.570585    291.253376    291.036126   \n",
       "min    1.376772e+12  1.376772e+12      1.000000    784.000000    789.000000   \n",
       "25%    1.477548e+12  1.477548e+12     37.000000   1398.000000   1391.000000   \n",
       "50%    1.496010e+12  1.496010e+12     55.000000   1567.000000   1562.000000   \n",
       "75%    1.503170e+12  1.503170e+12     79.000000   1793.000000   1784.000000   \n",
       "max    1.504493e+12  1.504494e+12    349.000000   2700.000000   2723.000000   \n",
       "\n",
       "        opening_ply  \n",
       "count  20058.000000  \n",
       "mean       4.816981  \n",
       "std        2.797152  \n",
       "min        1.000000  \n",
       "25%        3.000000  \n",
       "50%        4.000000  \n",
       "75%        6.000000  \n",
       "max       28.000000  "
      ]
     },
     "execution_count": 6,
     "metadata": {},
     "output_type": "execute_result"
    }
   ],
   "source": [
    "data.describe()"
   ]
  },
  {
   "cell_type": "markdown",
   "id": "735a4090-f4ee-48d9-b773-6a66d2f9b25c",
   "metadata": {},
   "source": [
    "### Mô tả các biến trong dữ liệu\n",
    "**ID**: ID dùng để phân biệt các game đấu            \n",
    "**rated**: Đó có phải trận đấu xếp hạng không (True/ False)           \n",
    "**created_at**: Thời gian bắt đầu trận đấu <br>\n",
    "**last_move_at**: Thời gian kết thúc trận đấu    \n",
    "**turns**: Số lượt đi của cả 2 người chơi trong game đấu đó            \n",
    "**victory_status**: Trạng thái thắng hay hòa hay thắng do hết thời gian hay do đối thủ đầu hàng    \n",
    "**winner**: Người chiến thắng           \n",
    "**increment_code**: chế độ trò chơi (thời gian + thời gian bonus cho mỗi nước) (đơn vị phút) <br>\n",
    "**white_id**: id của người chơi trắng <br>\n",
    "**white_rating**: điểm đánh giá của người dùng quân trắng <br>\n",
    "**black_id**: id của người chơi quân đen <br>\n",
    "**black_rating**: điểm đánh giá của người dùng quân đen <br>\n",
    "**moves**: tất cả các nước đi <br>\n",
    "**opening_eco**: mã khai cuộc (theo trang web eco) <br>\n",
    "**opening_name**: tên khai cuộc <br>\n",
    "**opening_ply**: số nước theo khai cuộc <br>"
   ]
  },
  {
   "cell_type": "markdown",
   "id": "76f0e8ef-1842-4655-be94-18180dd1c9af",
   "metadata": {},
   "source": [
    "## Phần 3: Kế hoạch phân tích dữ liệu"
   ]
  },
  {
   "cell_type": "markdown",
   "id": "f51223b6-cd1c-47b3-a37b-b36b8d7ea21f",
   "metadata": {},
   "source": [
    "### *Câu hỏi phân tích*"
   ]
  },
  {
   "cell_type": "markdown",
   "id": "8917e89a-a5dd-45f1-a049-6ce081a8e622",
   "metadata": {},
   "source": [
    "**Đề xuất**:"
   ]
  },
  {
   "cell_type": "markdown",
   "id": "cecf9db4-b5e6-4b07-b7b5-900d41f1d76d",
   "metadata": {},
   "source": [
    "**Câu 1**: Khoảng cách elo giữa 2 người chơi có ảnh hưởng đến kết quả trận đấu. \n",
    "\n",
    "__1. Giả thuyết:__\n",
    "\n",
    "- __A__: Có mối liên hệ giữa chênh lệch điểm elo và kết quả trận đấu\n",
    "- __B__: Không có mối liên hệ giữa chênh lệch điểm elo và kết quả trận đấu\n",
    "\n",
    "- __Biến giải thích__: white_rating, black_rating\n",
    "- __Biến phản hồi__: winner"
   ]
  },
  {
   "cell_type": "markdown",
   "id": "ff879ab5-9457-47ff-8498-324db7b1376d",
   "metadata": {},
   "source": [
    "__2. Phân tích thăm dò__"
   ]
  },
  {
   "cell_type": "code",
   "execution_count": 5,
   "id": "7e3307c2-d980-4387-ac5e-e33af1917452",
   "metadata": {
    "tags": []
   },
   "outputs": [],
   "source": [
    "#tạo data tỉ lệ số trận thắng của người chơi có elo cao hơn? Liệu có thay đổi theo màu cờ\n",
    "black_higher_df = data[data[\"black_rating\"] > data[\"white_rating\"]]\n",
    "white_higher_df = data[data[\"black_rating\"] < data[\"white_rating\"]]\n",
    "black_higher_winner = len(black_higher_df[black_higher_df[\"winner\"] == \"black\"])\n",
    "white_higher_winner = len(white_higher_df[white_higher_df[\"winner\"] == \"white\"])"
   ]
  },
  {
   "cell_type": "code",
   "execution_count": 6,
   "id": "4b729fc7-60bf-408e-8bdc-038b097f3158",
   "metadata": {
    "jupyter": {
     "source_hidden": true
    },
    "scrolled": true,
    "tags": []
   },
   "outputs": [
    {
     "data": {
      "text/plain": [
       "Text(0, 0.5, 'Số lượng')"
      ]
     },
     "execution_count": 6,
     "metadata": {},
     "output_type": "execute_result"
    },
    {
     "data": {
      "image/png": "[encoded data removed]",
      "text/plain": [
       "<Figure size 432x288 with 1 Axes>"
      ]
     },
     "metadata": {
      "needs_background": "light"
     },
     "output_type": "display_data"
    }
   ],
   "source": [
    "black_higher_df.groupby(\"winner\").count()[\"id\"].plot(kind = \"bar\", rot = 0)\n",
    "plt.title(\"Số trận thắng khi người chơi đen có elo cao hơn\", fontweight='bold', color = 'black', fontsize='16')\n",
    "plt.xlabel(\"người thắng\", fontsize = \"16\")\n",
    "plt.ylabel(\"Số lượng\")"
   ]
  },
  {
   "cell_type": "code",
   "execution_count": 7,
   "id": "7ed8ad9f-3f22-432f-bffe-3a6807657e06",
   "metadata": {
    "jupyter": {
     "source_hidden": true
    },
    "tags": []
   },
   "outputs": [
    {
     "data": {
      "text/plain": [
       "Text(0, 0.5, 'Số lượng')"
      ]
     },
     "execution_count": 7,
     "metadata": {},
     "output_type": "execute_result"
    },
    {
     "data": {
      "image/png": "[encoded data removed]",
      "text/plain": [
       "<Figure size 432x288 with 1 Axes>"
      ]
     },
     "metadata": {
      "needs_background": "light"
     },
     "output_type": "display_data"
    }
   ],
   "source": [
    "white_higher_df.groupby(\"winner\").count()[\"id\"].plot(kind = \"bar\", rot = 0)\n",
    "plt.title(\"Số trận thắng khi người chơi trắng có elo cao hơn\", fontweight='bold', color = 'black', fontsize='16')\n",
    "plt.xlabel(\"người thắng\", fontsize = \"16\")\n",
    "plt.ylabel(\"Số lượng\")"
   ]
  },
  {
   "cell_type": "code",
   "execution_count": 10,
   "id": "b05ac886-e7ce-4db3-aca6-f2643ae6b700",
   "metadata": {
    "tags": []
   },
   "outputs": [
    {
     "name": "stdout",
     "output_type": "stream",
     "text": [
      "Người chơi đen đạt 60.211% chiến thắng so với người chơi có elo thấp hơn\n",
      "Người chơi trắng đạt 67.511% chiến thắng so với người chơi có elo thấp hơn\n"
     ]
    }
   ],
   "source": [
    "black_winner_per = round(black_higher_winner / len(black_higher_df) * 100, 3)\n",
    "white_winner_per = round(white_higher_winner / len(black_higher_df) * 100, 3)\n",
    "print(f'Người chơi đen đạt {black_winner_per}% chiến thắng so với người chơi có elo thấp hơn')\n",
    "print(f'Người chơi trắng đạt {white_winner_per}% chiến thắng so với người chơi có elo thấp hơn')"
   ]
  },
  {
   "cell_type": "markdown",
   "id": "908ad961-2cd7-43dd-9f86-bff06d05cf59",
   "metadata": {
    "tags": []
   },
   "source": [
    "__3. Suy diễn__\n",
    "- suy diễn thống kê có dạng categorical - categorical (có sự chênh lệch về elo - kết quả trận đấu)\n",
    "- Kiểm định thống kê phù hợp cho dạng câu hỏi này là chi square - test\n",
    "- giả thuyết: \n",
    "    - Null hypothesis H0: không có quan hệ giữa chênh lệch elo và kết quả trận đấu\n",
    "    - Hypothesis H1: có quan hệ giữa chênh lệch elo và kết quả trận đấu"
   ]
  },
  {
   "cell_type": "code",
   "execution_count": 11,
   "id": "e9761e5d-7439-4b7a-8f86-853832633ae6",
   "metadata": {},
   "outputs": [
    {
     "data": {
      "text/html": [
       "<div>\n",
       "<style scoped>\n",
       "    .dataframe tbody tr th:only-of-type {\n",
       "        vertical-align: middle;\n",
       "    }\n",
       "\n",
       "    .dataframe tbody tr th {\n",
       "        vertical-align: top;\n",
       "    }\n",
       "\n",
       "    .dataframe thead th {\n",
       "        text-align: right;\n",
       "    }\n",
       "</style>\n",
       "<table border=\"1\" class=\"dataframe\">\n",
       "  <thead>\n",
       "    <tr style=\"text-align: right;\">\n",
       "      <th></th>\n",
       "      <th>win</th>\n",
       "      <th>lose</th>\n",
       "      <th>total</th>\n",
       "    </tr>\n",
       "  </thead>\n",
       "  <tbody>\n",
       "    <tr>\n",
       "      <th>black</th>\n",
       "      <td>9671</td>\n",
       "      <td>10184</td>\n",
       "      <td>19342</td>\n",
       "    </tr>\n",
       "    <tr>\n",
       "      <th>white</th>\n",
       "      <td>5823</td>\n",
       "      <td>6529</td>\n",
       "      <td>12352</td>\n",
       "    </tr>\n",
       "    <tr>\n",
       "      <th>total</th>\n",
       "      <td>15494</td>\n",
       "      <td>16713</td>\n",
       "      <td>31694</td>\n",
       "    </tr>\n",
       "  </tbody>\n",
       "</table>\n",
       "</div>"
      ],
      "text/plain": [
       "         win   lose  total\n",
       "black   9671  10184  19342\n",
       "white   5823   6529  12352\n",
       "total  15494  16713  31694"
      ]
     },
     "execution_count": 11,
     "metadata": {},
     "output_type": "execute_result"
    }
   ],
   "source": [
    "higher_group = [len(black_higher_df), len(white_higher_df), len(black_higher_df) + len(black_higher_df)]\n",
    "winner_group = [black_higher_winner, white_higher_winner, black_higher_winner + white_higher_winner]\n",
    "total_group = [len(black_higher_df) + black_higher_winner, len(white_higher_df) + white_higher_winner, len(black_higher_df) + len(black_higher_df) + black_higher_winner + white_higher_winner]\n",
    "df1 = [higher_group, winner_group, total_group]\n",
    "df2 = [\"black\", \"white\", \"total\"]\n",
    "df3 = [\"win\", \"lose\", \"total\"]\n",
    "df4 = pd.DataFrame(df1, index = df2, columns = df3)\n",
    "df4"
   ]
  },
  {
   "cell_type": "code",
   "execution_count": 12,
   "id": "5a277488-40e7-4f51-9d96-28b5bfdb051b",
   "metadata": {},
   "outputs": [
    {
     "name": "stdout",
     "output_type": "stream",
     "text": [
      "0.00037475990586677277\n"
     ]
    }
   ],
   "source": [
    "(df4.iloc[0, 2] * df4.iloc[2, 0]) / df4.iloc[2, 2]\n",
    "#create chi square table\n",
    "chi2_table = []\n",
    "p = k = 2\n",
    "for i in range(p):\n",
    "    lst = []\n",
    "    for j in range(k):\n",
    "        lst.append((df4.iloc[i, 2] * df4.iloc[2, j]) / df4.iloc[2, 2])\n",
    "    chi2_table.append(lst)\n",
    "\n",
    "x_square = 0\n",
    "for i in range(p):\n",
    "    for j in range(k):\n",
    "        x_square += (chi2_table[i][j] - df4.iloc[i, j])**2 / chi2_table[i][j]\n",
    "        \n",
    "# degree = (p-1)(k-1)\n",
    "degree = (p-1)*(k-1)\n",
    "\n",
    "p_value = 1 - 𝑠𝑡𝑎𝑡𝑠.𝑐ℎ𝑖2.𝑐𝑑𝑓(x_square, degree) #use chi square test method\n",
    "\n",
    "print(p_value)"
   ]
  },
  {
   "cell_type": "markdown",
   "id": "bf864dd2-8404-4f41-a05b-61e96ba8181f",
   "metadata": {},
   "source": [
    "Dựa vào kết quả trên ta thấy rằng khả năng mà người chơi có elo cao không có liên quan đến kết quả trận đấu là không đáng kể p_value = 0.003 < 0.05. Nên ta có thể bác bỏ H0. "
   ]
  },
  {
   "cell_type": "markdown",
   "id": "ec089724-e4c9-4e83-94c1-6e7bb38b9aea",
   "metadata": {},
   "source": [
    "### Kết luận câu hỏi 1:\n",
    "- Dựa vào biểu đồ trực quan trong phân tích thăm dò, người chơi với elo cao hơn thường có khả năng thắng cao hơn khi đối đầu với người chơi có elo thấp hơn kể cả khi họ chơi màu quân cờ khác.\n",
    "- Qua kiểm định thống kê, ta đã cấp một bằng chứng đủ mạnh để bác bỏ giả thuyết ngược rằng sự chênh lệch giữa elo giữa 2 người chơi không tác động đến kết quả ván đấu với xác xuất.\n",
    "- Tuy nhiên điều đó không có nghĩa là người có elo cao hơn sẽ luôn thắng người chơi có elo thấp hơn. Do còn tùy thuộc vào nhiều yếu tố như số nước đi blunder(nước đi lỗi), thời gian, ... \n"
   ]
  },
  {
   "cell_type": "markdown",
   "id": "faea54bb",
   "metadata": {},
   "source": [
    "### Chứng minh giả thuyết: "
   ]
  },
  {
   "cell_type": "markdown",
   "id": "38ee5899-afd3-4cba-9401-6ddf8abdee2c",
   "metadata": {},
   "source": [
    "**Câu 2**: Sử dụng hệ thống khai cuộc nửa thoáng (1.e4 đen đi khác e5) đem lại lợi thế cho trắng \n",
    "\n",
    "__Giả thuyết:__\n",
    "\n",
    "- __A__: Có mối liên hệ hệ thống khai cuộc và tỉ lệ thắng giữa trắng và đen\n",
    "- __B__: Hệ thống khai cuộc không có liên quan đến người chơi  \n",
    "\n",
    "- __Biến giải thích__: white_rating, black_rating\n",
    "- __Biến phản hồi__: count(opening_eco), opening_ply"
   ]
  },
  {
   "cell_type": "code",
   "execution_count": 13,
   "id": "f26b2db9-f43d-4097-ad08-673283b3ef81",
   "metadata": {},
   "outputs": [],
   "source": [
    "temp = data[\"moves\"].apply(lambda x: x.split(\" \"))\n",
    "opening_system = []\n",
    "for i in range(len(temp)):\n",
    "    lst = temp.iloc[i]\n",
    "    if len(lst) < 2:\n",
    "        opening_system.append(\"không xác định\")\n",
    "        continue\n",
    "    if lst[0] == \"e4\":\n",
    "        if lst[1] == \"e5\":\n",
    "            opening_system.append(\"thoáng\")\n",
    "        else:\n",
    "            opening_system.append(\"nửa thoáng\")\n",
    "    else:\n",
    "        opening_system.append(\"kín\")"
   ]
  },
  {
   "cell_type": "code",
   "execution_count": 14,
   "id": "39ece025-5870-4af7-99f4-32c03ae09d99",
   "metadata": {},
   "outputs": [
    {
     "data": {
      "text/plain": [
       "Text(0.5, 1.0, 'Biểu đồ cột thể hiện số lượng trận thắng của các hệ thống khai cuộc đối với từng màu quân cờ')"
      ]
     },
     "execution_count": 14,
     "metadata": {},
     "output_type": "execute_result"
    },
    {
     "data": {
      "image/png": "[encoded data removed]",
      "text/plain": [
       "<Figure size 432x288 with 1 Axes>"
      ]
     },
     "metadata": {
      "needs_background": "light"
     },
     "output_type": "display_data"
    }
   ],
   "source": [
    "# id winner system\n",
    "# 0 black   kin\n",
    "# 1 white   thoang\n",
    "\n",
    "df = pd.DataFrame(data[[\"id\", \"winner\"]])\n",
    "df[\"system\"] = opening_system\n",
    "df1 = df.groupby([\"system\", \"winner\"]).count()\n",
    "df1.plot(kind = \"barh\", rot = 0)\n",
    "plt.ylabel(\"(hệ thống khai cuộc, quân thắng)\")\n",
    "plt.xlabel(\"số lượng\")\n",
    "plt.title(\"Biểu đồ cột thể hiện số lượng trận thắng của các hệ thống khai cuộc đối với từng màu quân cờ\")"
   ]
  },
  {
   "cell_type": "code",
   "execution_count": 15,
   "id": "0be93cca-c8c6-40b6-a42c-43ca7468f481",
   "metadata": {},
   "outputs": [
    {
     "name": "stdout",
     "output_type": "stream",
     "text": [
      "Người chơi đen đạt 46.34% chiến thắng so với người chơi trắng trong trường hợp khai cuộc kín\n",
      "Người chơi trắng đạt 48.65% chiến thắng so với người chơi đen trong trường hợp khai cuộc kín\n",
      "Người chơi đen đạt 46.19% chiến thắng so với người chơi trắng trong trường hợp khai cuộc nửa thoáng\n",
      "Người chơi trắng đạt 48.8% chiến thắng so với người chơi đen trong trường hợp khai cuộc nửa thoáng\n",
      "Người chơi đen đạt 43.49% chiến thắng so với người chơi trắng trong trường hợp khai cuộc thoáng\n",
      "Người chơi trắng đạt 52.4% chiến thắng so với người chơi đen trong trường hợp khai cuộc thoáng\n"
     ]
    }
   ],
   "source": [
    "temp1 = df.groupby([\"system\", \"winner\"]).count()\n",
    "temp2 = df.groupby([\"system\"]).count()[\"id\"]\n",
    "\n",
    "#khai cuộc kín\n",
    "black_kin_per = (temp1.loc[\"kín\", \"black\"] / temp2.loc[\"kín\"])[0]\n",
    "bkp = round(black_kin_per*100, 2)\n",
    "print(f'Người chơi đen đạt {bkp}% chiến thắng so với người chơi trắng trong trường hợp khai cuộc kín')\n",
    "white_kin_per = (temp1.loc[\"kín\", \"white\"] / temp2.loc[\"kín\"])[0]\n",
    "wkp = round(white_kin_per*100, 2)\n",
    "print(f'Người chơi trắng đạt {wkp}% chiến thắng so với người chơi đen trong trường hợp khai cuộc kín')\n",
    "\n",
    "#khai cuộc nửa thoáng \n",
    "black_nuathoang_per = (temp1.loc[\"nửa thoáng\", \"black\"] / temp2.loc[\"nửa thoáng\"])[0]\n",
    "bntp = round(black_nuathoang_per*100, 2)\n",
    "print(f'Người chơi đen đạt {bntp}% chiến thắng so với người chơi trắng trong trường hợp khai cuộc nửa thoáng')\n",
    "white_nuathoang_per = (temp1.loc[\"nửa thoáng\", \"white\"] / temp2.loc[\"nửa thoáng\"])[0]\n",
    "wntp = round(white_nuathoang_per*100, 2)\n",
    "print(f'Người chơi trắng đạt {wntp}% chiến thắng so với người chơi đen trong trường hợp khai cuộc nửa thoáng')\n",
    "\n",
    "#khai cuộc thoáng\n",
    "black_thoang_per = (temp1.loc[\"thoáng\", \"black\"] / temp2.loc[\"thoáng\"])[0]\n",
    "btp = round(black_thoang_per*100, 2)\n",
    "print(f'Người chơi đen đạt {btp}% chiến thắng so với người chơi trắng trong trường hợp khai cuộc thoáng')\n",
    "white_thoang_per = (temp1.loc[\"thoáng\", \"white\"] / temp2.loc[\"thoáng\"])[0]\n",
    "wtp = round(white_thoang_per*100, 2)\n",
    "print(f'Người chơi trắng đạt {wtp}% chiến thắng so với người chơi đen trong trường hợp khai cuộc thoáng')"
   ]
  },
  {
   "cell_type": "markdown",
   "id": "03df8747-8dfd-4e42-b556-16d9559eaed0",
   "metadata": {},
   "source": [
    "**Câu 3**: Khai cuộc mà những người chơi có elo cao ưa thích sử dụng? Liệu có đúng cho một quần thể\n",
    "\n",
    "__Giả thuyết:__\n",
    "\n",
    "- __A__: Khai cuộc được ưa thích nhất trong tập mẫu không có sự khác biệt với quần thể\n",
    "- __B__: Có sự khác biệt giữa tập mẫu và quần thể\n",
    "\n",
    "- __Biến giải thích__: white_rating, black_rating, opening_name"
   ]
  },
  {
   "cell_type": "markdown",
   "id": "1a20ec73-ab6f-41db-8547-ea1f5c2a4aea",
   "metadata": {},
   "source": [
    "Ta chỉ xem xét trận đấu giữa những người chơi có kinh nghiệm (thường sẽ có elo cao ở đây ta xét elo trung bình > 1500)"
   ]
  },
  {
   "cell_type": "code",
   "execution_count": 16,
   "id": "d84a17c0-70f9-460e-ad92-d42d875235d6",
   "metadata": {},
   "outputs": [
    {
     "data": {
      "text/plain": [
       "Sicilian Defense                                                212\n",
       "Sicilian Defense: Bowdler Attack                                190\n",
       "French Defense: Knight Variation                                173\n",
       "Queen's Pawn Game: Mason Attack                                 157\n",
       "Scotch Game                                                     155\n",
       "                                                               ... \n",
       "Modern Defense: Beefeater Variation                               1\n",
       "Semi-Slav Defense: Meran Variation |  Wade Variation              1\n",
       "Benko Gambit Accepted |  Yugoslav |  without 7...Bxf1             1\n",
       "Sicilian Defense: Nimzowitsch Variation |  Main Line              1\n",
       "Sicilian Defense: Najdorf Variation |  Polugaevsky Variation      1\n",
       "Name: opening_name, Length: 1363, dtype: int64"
      ]
     },
     "execution_count": 16,
     "metadata": {},
     "output_type": "execute_result"
    }
   ],
   "source": [
    "temp = data[(data.white_rating + data.black_rating) / 2 > 1500]\n",
    "dt = temp[\"opening_name\"].value_counts()\n",
    "col = [\"opening_name\", \"count\"]\n",
    "dt"
   ]
  },
  {
   "cell_type": "code",
   "execution_count": 26,
   "id": "d3aa4b43-365e-4d73-b416-f437d15e5339",
   "metadata": {},
   "outputs": [],
   "source": [
    "temp = data[\"moves\"].apply(lambda x: x.split(\" \"))\n",
    "sicilian_count = 0\n",
    "for i in range(len(temp)):\n",
    "    lst = temp.iloc[i]\n",
    "    if (len(lst) < 2):\n",
    "        continue\n",
    "    if (lst[0] == \"e4\" and lst[1] == \"c5\"):\n",
    "        sicilian_count += 1\n",
    "sicilian_per = sicilian_count / len(temp)"
   ]
  },
  {
   "cell_type": "code",
   "execution_count": 37,
   "id": "fb6639e8-5b24-4ebf-8410-6d2cc7fd84c5",
   "metadata": {},
   "outputs": [
    {
     "name": "stdout",
     "output_type": "stream",
     "text": [
      "Kiểu khai cuộc được sử dụng nhiều nhất bởi người chơi: Sicilian Defense với tỉ lệ 13.0%\n"
     ]
    }
   ],
   "source": [
    "most_open = dt.index[:5][0]\n",
    "most_open_per = round((dt[0] / len(temp)) * 100, 2)\n",
    "print(f\"Kiểu khai cuộc được sử dụng nhiều nhất bởi người chơi: {most_open} với tỉ lệ {round(sicilian_per, 2) * 100}%\")"
   ]
  },
  {
   "cell_type": "markdown",
   "id": "d23b62b9-e73f-40e3-b3ca-badfde06ed6a",
   "metadata": {},
   "source": [
    "__Ta có tỷ lệ cho mẫu là p = 0.074, lúc này ta ước lượng điểm cho tỉ lệ quần thể p_hat với khoảng tin cậy là 95% cho p.__"
   ]
  },
  {
   "cell_type": "code",
   "execution_count": 29,
   "id": "8ce6a19e-ada0-4b0b-9b56-54f955d0a5c2",
   "metadata": {},
   "outputs": [
    {
     "name": "stdout",
     "output_type": "stream",
     "text": [
      "n*p_hat = 20058 * 0.12867683717220063 = 2581.0\n",
      "n*(1-p^hat) = 20058 * (1 - 0.12867683717220063) = 17477.0\n"
     ]
    }
   ],
   "source": [
    "n = len(temp)\n",
    "p_hat = sicilian_per\n",
    "print(f\"n*p_hat = {n} * {p_hat} = {round(n*p_hat, 2)}\\nn*(1-p^hat) = {n} * (1 - {p_hat}) = {round(n*(1-p_hat), 2)}\")"
   ]
  },
  {
   "cell_type": "markdown",
   "id": "89634193-213d-400a-9e53-0f0ee25c6f50",
   "metadata": {},
   "source": [
    "__Ta thấy n*p > 10, n*(1-p) > 10,  nên ta có:__ (p_hat (+-) z_a/2*sqrt((p-(1-p_hat)) / n) (a = 0.05 -> z_a/2 = 1.96)"
   ]
  },
  {
   "cell_type": "code",
   "execution_count": 30,
   "id": "6cf28a9a-b617-4d76-aaf5-21b11d2283b7",
   "metadata": {},
   "outputs": [
    {
     "name": "stdout",
     "output_type": "stream",
     "text": [
      "Ước lượng khoảng tỉ lệ cho quần thể sử dụng khai cuộc Sicilian Defense với khoảng tin cậy 95% là: (0.12404287935306485, 0.1333107949913364)\n"
     ]
    }
   ],
   "source": [
    "vari = 1.96*math.sqrt((p_hat*(1-p_hat))/n)\n",
    "print(f\"Ước lượng khoảng tỉ lệ cho quần thể sử dụng khai cuộc {most_open} với khoảng tin cậy 95% là: ({p_hat - vari}, {p_hat + vari})\")"
   ]
  },
  {
   "cell_type": "markdown",
   "id": "92e5f035-5f8d-4211-8335-b5d8744d984a",
   "metadata": {},
   "source": [
    "### Kiểm định giả thuyết:\n",
    "- theo [Wikipedia](https://en.wikipedia.org/wiki/Sicilian_Defence): sicilian defence được sử dụng đến 17% bởi grand master(elo > 2000) và 25% trong chess imformant database.(gần 350,000 ván đấu) (phần 1, đoạn đầu, dòng cuối)\n",
    "- kiểm định giả thuyết phù hợp cho dạng này là z-test cho tỷ lệ\n",
    "    - Nulll hypothesis H0 có sự khác biệt giữa mẫu và quần thể: p = p0"
   ]
  },
  {
   "cell_type": "code",
   "execution_count": 31,
   "id": "6ff50466-339f-4dda-8e09-ad6aea8fce09",
   "metadata": {},
   "outputs": [
    {
     "data": {
      "text/plain": [
       "count    20058.000000\n",
       "mean      2016.495563\n",
       "std          0.885647\n",
       "min       2013.000000\n",
       "25%       2016.000000\n",
       "50%       2017.000000\n",
       "75%       2017.000000\n",
       "max       2017.000000\n",
       "Name: created_at_dt, dtype: float64"
      ]
     },
     "execution_count": 31,
     "metadata": {},
     "output_type": "execute_result"
    }
   ],
   "source": [
    "df_times = data[['created_at','last_move_at']].copy()\n",
    "\n",
    "df_times['created_at_dt'] = pd.to_datetime(df_times['created_at']/1000, \n",
    "                                           unit='s', \n",
    "                                           origin='unix')\n",
    "\n",
    "df_times[\"created_at_dt\"].apply(lambda x: x.year).describe()"
   ]
  },
  {
   "cell_type": "markdown",
   "id": "2b473ec5-8a00-46aa-ba86-bcf6485f3786",
   "metadata": {},
   "source": [
    "Do dữ liệu được lấy trong các năm chủ yếu là 2016 và 2017 nên dựa theo nguồn dữ liệu từ [Chess.com](https://www.chess.com/openings/Sicilian-Defense) ta chọn p0 = 0.17 làm tỉ lệ cho quần thể"
   ]
  },
  {
   "cell_type": "code",
   "execution_count": 36,
   "id": "d1a9db7a-b3ed-40e4-b533-efe60c2dd201",
   "metadata": {},
   "outputs": [
    {
     "data": {
      "text/plain": [
       "1.0"
      ]
     },
     "execution_count": 36,
     "metadata": {},
     "output_type": "execute_result"
    }
   ],
   "source": [
    "p = 0.17\n",
    "SE = math.sqrt((p_hat*(1-p_hat)) / n)\n",
    "z = (p_hat - p) / SE\n",
    "degree = n - 1\n",
    "p_value = 1 - stats.t.cdf(z, degree)\n",
    "p_value"
   ]
  },
  {
   "cell_type": "markdown",
   "id": "8dd48e63-8308-4075-ac0c-ae7fec03d5d6",
   "metadata": {},
   "source": [
    "ta không thể bác bỏ giả thuyết H0 do p_value = 1 > 0.05 và coi như rằng dữ liệu mẫu khác biệt so với quần thể"
   ]
  },
  {
   "cell_type": "markdown",
   "id": "a029c3cb-b519-402a-8424-ba0ba6a1156a",
   "metadata": {},
   "source": [
    "### Kết luận giả thuyết 3:\n",
    "- từ phân tích thăm dò ta thấy khai cuộc sicilian là khai cuộc được nhiều người chơi ưa chuộng nhất.\n",
    "- Kiểm định thống kê cho thấy rằng tập dữ liệu mẫu là khác biệt \"hoàn toàn\" so với quần thể khi p_value = 1\n",
    "- Tuy vậy ta vẫn thấy được rằng sicilian defense vẫn là khai cuộc nên học cho người chơi mới do tính phổ biến của nó."
   ]
  },
  {
   "cell_type": "markdown",
   "id": "78f35217-93c0-4eeb-9970-caf51907092e",
   "metadata": {},
   "source": [
    "### Phương pháp thống kê\n",
    "   * Nghiên cứu mối liên hệ giữa các hiện tượng"
   ]
  },
  {
   "cell_type": "markdown",
   "id": "ad4d6d40-688d-4086-b119-e0be45460fcd",
   "metadata": {},
   "source": [
    "### Kết quả từ phương pháp thống kê:\n",
    "    1. Ta có thể dễ dàng cảm nhận được rằng những người chơi có elo cao hơn sẽ có khả năng thắng cao hơn\n",
    "    2. Việc phân tích các hệ thống khai cuộc đem lại kết quả khá thú vị khi người cầm quân trắng luôn có tỉ lệ thắng cao hơn hay nói cách khác người cầm quân trắng có tỉ lệ thắng cao hơn bên đen \n",
    "    3. Khai cuộc sicilian (e4, c5) là khai cuộc rất được ưa chuộng trong các trận đấu cho dù tỉ lệ đó ở quần thể khác với tỉ lệ trong tập mẫu đang phân tích"
   ]
  },
  {
   "cell_type": "markdown",
   "id": "28657d1b-716c-4f1c-b83b-d1aead10d2c1",
   "metadata": {},
   "source": [
    "### nhược điểm\n",
    "    - do chỉ có thể xử lí từ các biến đơn giản trong khi biến \"moves\" mới đem lại nhiều phân tích \"thú vị\" hơn nên ý nghĩa trong bài phân tích này không được cao. Do giới hạn về thời gian và năng lực người phân tích.\n",
    "    - Vẫn còn nhiều biến khi lấy về bị lỗi như \"created_at\" và \"last_moved_at\" trong quá trình định dạng về bị sai số =, thậm chí bị trùng nên không thể phân tích thêm thời gian."
   ]
  }
 ],
 "metadata": {
  "interpreter": {
   "hash": "f9eb41c1a4cfc5f7c75960197d26504489bbb30f15770709edeaa60e83d47d38"
  },
  "kernelspec": {
   "display_name": "Python 3 (ipykernel)",
   "language": "python",
   "name": "python3"
  },
  "language_info": {
   "codemirror_mode": {
    "name": "ipython",
    "version": 3
   },
   "file_extension": ".py",
   "mimetype": "text/x-python",
   "name": "python",
   "nbconvert_exporter": "python",
   "pygments_lexer": "ipython3",
   "version": "3.9.7"
  }
 },
 "nbformat": 4,
 "nbformat_minor": 5
}
